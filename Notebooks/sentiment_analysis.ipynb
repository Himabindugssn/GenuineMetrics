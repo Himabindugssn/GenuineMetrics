{
  "nbformat": 4,
  "nbformat_minor": 0,
  "metadata": {
    "colab": {
      "name": "sentiment_analysis.ipynb",
      "provenance": [],
      "collapsed_sections": [
        "L48-TWjQws8S"
      ]
    },
    "kernelspec": {
      "name": "python3",
      "display_name": "Python 3"
    }
  },
  "cells": [
    {
      "cell_type": "code",
      "metadata": {
        "id": "DlyHFtgEeP8t",
        "colab": {
          "base_uri": "https://localhost:8080/",
          "height": 122
        },
        "outputId": "fbb207d9-392e-4717-ffba-fb9ea5630a43"
      },
      "source": [
        "#mounting gdrive\n",
        "from google.colab import drive\n",
        "drive.mount('/content/drive')"
      ],
      "execution_count": null,
      "outputs": [
        {
          "output_type": "stream",
          "text": [
            "Go to this URL in a browser: https://accounts.google.com/o/oauth2/auth?client_id=947318989803-6bn6qk8qdgf4n4g3pfee6491hc0brc4i.apps.googleusercontent.com&redirect_uri=urn%3aietf%3awg%3aoauth%3a2.0%3aoob&response_type=code&scope=email%20https%3a%2f%2fwww.googleapis.com%2fauth%2fdocs.test%20https%3a%2f%2fwww.googleapis.com%2fauth%2fdrive%20https%3a%2f%2fwww.googleapis.com%2fauth%2fdrive.photos.readonly%20https%3a%2f%2fwww.googleapis.com%2fauth%2fpeopleapi.readonly\n",
            "\n",
            "Enter your authorization code:\n",
            "··········\n",
            "Mounted at /content/drive\n"
          ],
          "name": "stdout"
        }
      ]
    },
    {
      "cell_type": "code",
      "metadata": {
        "id": "eH1Bd1CGNvWS"
      },
      "source": [
        "# reading the CSV file having tweets\n",
        "import pandas as pd\n"
      ],
      "execution_count": null,
      "outputs": []
    },
    {
      "cell_type": "markdown",
      "metadata": {
        "id": "Wjzha1hg72aA"
      },
      "source": [
        "## Preparing data"
      ]
    },
    {
      "cell_type": "code",
      "metadata": {
        "id": "I1sHkrNG7VNw"
      },
      "source": [
        "#import os\n",
        "#f = open(os.path.expanduser(\"~/Desktop/master_twitter_01.csv\"))"
      ],
      "execution_count": null,
      "outputs": []
    },
    {
      "cell_type": "code",
      "metadata": {
        "id": "T7485U-q75X7"
      },
      "source": [
        "#import pandas as pd\n",
        "#df = pd.read_csv('~/Desktop/master_twitter_01.csv')\n",
        "#df['Contents'].count()"
      ],
      "execution_count": null,
      "outputs": []
    },
    {
      "cell_type": "code",
      "metadata": {
        "id": "yfjIrL5sRcsv",
        "colab": {
          "base_uri": "https://localhost:8080/",
          "height": 646
        },
        "outputId": "9cc8084b-bb28-4d17-caf9-d22c5daa8a29"
      },
      "source": [
        "df=pd.read_csv('/content/drive/My Drive/master_twitter_01.csv')\n",
        "df.count()"
      ],
      "execution_count": null,
      "outputs": [
        {
          "output_type": "execute_result",
          "data": {
            "text/plain": [
              "No                 1453359\n",
              "Source             1453359\n",
              "Host               1453359\n",
              "Link               1453359\n",
              "Date(ET)           1453359\n",
              "Time(ET)           1453359\n",
              "LocalTime          1453359\n",
              "Category                 0\n",
              "Author ID          1453343\n",
              "Author Name        1453183\n",
              "Author URL         1453343\n",
              "Authority          1453344\n",
              "Followers          1453343\n",
              "Following          1453343\n",
              "Age                      0\n",
              "Gender              876694\n",
              "Language           1453359\n",
              "Country             781627\n",
              "Province/State      507820\n",
              "City                487746\n",
              "Location           1078057\n",
              "Sentiment          1453359\n",
              "Themes             1010702\n",
              "Classifications    1173369\n",
              "Entities           1173559\n",
              "Alexa Rank               0\n",
              "Alexa Reach              0\n",
              "Title                    0\n",
              "Snippet            1453359\n",
              "Contents           1453359\n",
              "Summary            1237555\n",
              "Bio                1133501\n",
              "Unique ID          1453359\n",
              "Post Source        1453359\n",
              "OK                       0\n",
              "OK1                      0\n",
              "dtype: int64"
            ]
          },
          "metadata": {
            "tags": []
          },
          "execution_count": 5
        }
      ]
    },
    {
      "cell_type": "code",
      "metadata": {
        "id": "jFNcuyr9kMFb",
        "colab": {
          "base_uri": "https://localhost:8080/",
          "height": 318
        },
        "outputId": "82a86497-6900-46b5-c264-2bd1135be4d5"
      },
      "source": [
        "# first two rows of dataframe\n",
        "df.head(2)"
      ],
      "execution_count": null,
      "outputs": [
        {
          "output_type": "execute_result",
          "data": {
            "text/html": [
              "<div>\n",
              "<style scoped>\n",
              "    .dataframe tbody tr th:only-of-type {\n",
              "        vertical-align: middle;\n",
              "    }\n",
              "\n",
              "    .dataframe tbody tr th {\n",
              "        vertical-align: top;\n",
              "    }\n",
              "\n",
              "    .dataframe thead th {\n",
              "        text-align: right;\n",
              "    }\n",
              "</style>\n",
              "<table border=\"1\" class=\"dataframe\">\n",
              "  <thead>\n",
              "    <tr style=\"text-align: right;\">\n",
              "      <th></th>\n",
              "      <th>No</th>\n",
              "      <th>Source</th>\n",
              "      <th>Host</th>\n",
              "      <th>Link</th>\n",
              "      <th>Date(ET)</th>\n",
              "      <th>Time(ET)</th>\n",
              "      <th>LocalTime</th>\n",
              "      <th>Category</th>\n",
              "      <th>Author ID</th>\n",
              "      <th>Author Name</th>\n",
              "      <th>Author URL</th>\n",
              "      <th>Authority</th>\n",
              "      <th>Followers</th>\n",
              "      <th>Following</th>\n",
              "      <th>Age</th>\n",
              "      <th>Gender</th>\n",
              "      <th>Language</th>\n",
              "      <th>Country</th>\n",
              "      <th>Province/State</th>\n",
              "      <th>City</th>\n",
              "      <th>Location</th>\n",
              "      <th>Sentiment</th>\n",
              "      <th>Themes</th>\n",
              "      <th>Classifications</th>\n",
              "      <th>Entities</th>\n",
              "      <th>Alexa Rank</th>\n",
              "      <th>Alexa Reach</th>\n",
              "      <th>Title</th>\n",
              "      <th>Snippet</th>\n",
              "      <th>Contents</th>\n",
              "      <th>Summary</th>\n",
              "      <th>Bio</th>\n",
              "      <th>Unique ID</th>\n",
              "      <th>Post Source</th>\n",
              "      <th>OK</th>\n",
              "      <th>OK1</th>\n",
              "    </tr>\n",
              "  </thead>\n",
              "  <tbody>\n",
              "    <tr>\n",
              "      <th>0</th>\n",
              "      <td>2.0</td>\n",
              "      <td>TWITTER</td>\n",
              "      <td>http://www.twitter.com</td>\n",
              "      <td>http://twitter.com/GNSERVICESFZD/statuses/1096...</td>\n",
              "      <td>2019-02-14</td>\n",
              "      <td>13:28:54</td>\n",
              "      <td>14 Feb 2019 23:58:54</td>\n",
              "      <td>NaN</td>\n",
              "      <td>GNSERVICESFZD</td>\n",
              "      <td>Gaurav Yadav</td>\n",
              "      <td>http://twitter.com/gnservicesfzd</td>\n",
              "      <td>1.0</td>\n",
              "      <td>3.0</td>\n",
              "      <td>83.0</td>\n",
              "      <td>NaN</td>\n",
              "      <td>MALE</td>\n",
              "      <td>English</td>\n",
              "      <td>India</td>\n",
              "      <td>delhi</td>\n",
              "      <td>new delhi</td>\n",
              "      <td>New Delhi, India</td>\n",
              "      <td>NEUTRAL</td>\n",
              "      <td>politics;</td>\n",
              "      <td>Person.government_employee;</td>\n",
              "      <td>United States Secretary of Health and Human Se...</td>\n",
              "      <td>NaN</td>\n",
              "      <td>NaN</td>\n",
              "      <td>NaN</td>\n",
              "      <td>GST SERVICES @â¹1000 https://t.co/LRN921K3x7</td>\n",
              "      <td>GST SERVICES @â¹1000 https://t.co/LRN921K3x7</td>\n",
              "      <td>GST SERVICES @â¹1000 https://t.co/LRN921K3x7</td>\n",
              "      <td>Love is composed of a single soul inhabiting t...</td>\n",
              "      <td>1.096114e+18</td>\n",
              "      <td>Instagram</td>\n",
              "      <td>NaN</td>\n",
              "      <td>NaN</td>\n",
              "    </tr>\n",
              "    <tr>\n",
              "      <th>1</th>\n",
              "      <td>3.0</td>\n",
              "      <td>TWITTER</td>\n",
              "      <td>http://www.twitter.com</td>\n",
              "      <td>http://twitter.com/isans_business/statuses/109...</td>\n",
              "      <td>2019-02-14</td>\n",
              "      <td>13:25:53</td>\n",
              "      <td>14 Feb 2019 23:55:53</td>\n",
              "      <td>NaN</td>\n",
              "      <td>isans_business</td>\n",
              "      <td>ISANS Business</td>\n",
              "      <td>http://twitter.com/isans_business</td>\n",
              "      <td>6.0</td>\n",
              "      <td>1338.0</td>\n",
              "      <td>812.0</td>\n",
              "      <td>NaN</td>\n",
              "      <td>NaN</td>\n",
              "      <td>English</td>\n",
              "      <td>Canada</td>\n",
              "      <td>ns</td>\n",
              "      <td>NaN</td>\n",
              "      <td>Nova Scotia</td>\n",
              "      <td>POSITIVE</td>\n",
              "      <td>business;finance;</td>\n",
              "      <td>Location.airport;Time.month;Location.country;O...</td>\n",
              "      <td>Husein Sastranegara International Airport;Febr...</td>\n",
              "      <td>NaN</td>\n",
              "      <td>NaN</td>\n",
              "      <td>NaN</td>\n",
              "      <td>On Thursday, February 21, Join Jeremy Scott, I...</td>\n",
              "      <td>On Thursday, February 21, Join Jeremy Scott, I...</td>\n",
              "      <td>For more info or to register: https://t.co/J8a...</td>\n",
              "      <td>ISANS Business &amp; Workforce Integration - suppo...</td>\n",
              "      <td>1.096113e+18</td>\n",
              "      <td>Hootsuite Inc.</td>\n",
              "      <td>NaN</td>\n",
              "      <td>NaN</td>\n",
              "    </tr>\n",
              "  </tbody>\n",
              "</table>\n",
              "</div>"
            ],
            "text/plain": [
              "    No   Source                    Host  ...     Post Source  OK OK1\n",
              "0  2.0  TWITTER  http://www.twitter.com  ...       Instagram NaN NaN\n",
              "1  3.0  TWITTER  http://www.twitter.com  ...  Hootsuite Inc. NaN NaN\n",
              "\n",
              "[2 rows x 36 columns]"
            ]
          },
          "metadata": {
            "tags": []
          },
          "execution_count": 6
        }
      ]
    },
    {
      "cell_type": "code",
      "metadata": {
        "id": "7K6i01hykM01"
      },
      "source": [
        "#df['Sentiment'].value_counts()"
      ],
      "execution_count": null,
      "outputs": []
    },
    {
      "cell_type": "code",
      "metadata": {
        "id": "VPFa55cKmeov"
      },
      "source": [
        "# need to work on \"Contents\""
      ],
      "execution_count": null,
      "outputs": []
    },
    {
      "cell_type": "code",
      "metadata": {
        "id": "qIdXwcDpnA8j",
        "colab": {
          "base_uri": "https://localhost:8080/",
          "height": 224
        },
        "outputId": "41efc909-dcb2-45d2-e51f-078ece277cc1"
      },
      "source": [
        "# Installing and importing necessary libraries\n",
        "!pip install wordcloud\n",
        "!pip install tweet-preprocessor\n",
        "\n",
        "import re\n",
        "import pandas as pd\n",
        "import numpy as np\n",
        "import seaborn as sns\n",
        "import nltk\n",
        "nltk.download('stopwords')\n",
        "from sklearn.feature_extraction.text import CountVectorizer\n",
        "from nltk.corpus import stopwords\n",
        "import matplotlib.pyplot as plt\n",
        "from wordcloud import WordCloud, STOPWORDS \n",
        "#from textblob import TextBlob \n",
        "from nltk.tokenize import word_tokenize\n",
        "from nltk.stem.porter import *\n",
        "import preprocessor as p"
      ],
      "execution_count": null,
      "outputs": [
        {
          "output_type": "stream",
          "text": [
            "Requirement already satisfied: wordcloud in /usr/local/lib/python3.6/dist-packages (1.5.0)\n",
            "Requirement already satisfied: pillow in /usr/local/lib/python3.6/dist-packages (from wordcloud) (7.0.0)\n",
            "Requirement already satisfied: numpy>=1.6.1 in /usr/local/lib/python3.6/dist-packages (from wordcloud) (1.18.5)\n",
            "Collecting tweet-preprocessor\n",
            "  Downloading https://files.pythonhosted.org/packages/17/9d/71bd016a9edcef8860c607e531f30bd09b13103c7951ae73dd2bf174163c/tweet_preprocessor-0.6.0-py3-none-any.whl\n",
            "Installing collected packages: tweet-preprocessor\n",
            "Successfully installed tweet-preprocessor-0.6.0\n"
          ],
          "name": "stdout"
        },
        {
          "output_type": "stream",
          "text": [
            "/usr/local/lib/python3.6/dist-packages/statsmodels/tools/_testing.py:19: FutureWarning: pandas.util.testing is deprecated. Use the functions in the public API at pandas.testing instead.\n",
            "  import pandas.util.testing as tm\n"
          ],
          "name": "stderr"
        },
        {
          "output_type": "stream",
          "text": [
            "[nltk_data] Downloading package stopwords to /root/nltk_data...\n",
            "[nltk_data]   Unzipping corpora/stopwords.zip.\n"
          ],
          "name": "stdout"
        }
      ]
    },
    {
      "cell_type": "markdown",
      "metadata": {
        "id": "JM1MC_XgJoUJ"
      },
      "source": [
        "### remove the NONE rows of sentiment"
      ]
    },
    {
      "cell_type": "code",
      "metadata": {
        "id": "5ElBfcV0V66j"
      },
      "source": [
        "#removed the duplicate tweets\n",
        "\n",
        "df=df.drop_duplicates(subset=['Contents'])"
      ],
      "execution_count": null,
      "outputs": []
    },
    {
      "cell_type": "code",
      "metadata": {
        "id": "OH8I-VQ4RX-a"
      },
      "source": [
        "#df=df.sample(frac=0.9, replace=True, random_state=1)\n",
        "#df=df.reset_index()"
      ],
      "execution_count": null,
      "outputs": []
    },
    {
      "cell_type": "code",
      "metadata": {
        "id": "0lrKUusAJQpE"
      },
      "source": [
        "df=df.dropna(subset=['Sentiment'])"
      ],
      "execution_count": null,
      "outputs": []
    },
    {
      "cell_type": "code",
      "metadata": {
        "id": "kn6-IdMhGxJa",
        "colab": {
          "base_uri": "https://localhost:8080/",
          "height": 646
        },
        "outputId": "196b6a5d-0c3c-4263-a169-491d1536d063"
      },
      "source": [
        "df.count()"
      ],
      "execution_count": null,
      "outputs": [
        {
          "output_type": "execute_result",
          "data": {
            "text/plain": [
              "No                 503538\n",
              "Source             503538\n",
              "Host               503538\n",
              "Link               503538\n",
              "Date(ET)           503538\n",
              "Time(ET)           503538\n",
              "LocalTime          503538\n",
              "Category                0\n",
              "Author ID          503526\n",
              "Author Name        503463\n",
              "Author URL         503526\n",
              "Authority          503527\n",
              "Followers          503526\n",
              "Following          503526\n",
              "Age                     0\n",
              "Gender             274005\n",
              "Language           503538\n",
              "Country            288679\n",
              "Province/State     193953\n",
              "City               185562\n",
              "Location           378413\n",
              "Sentiment          503538\n",
              "Themes             301011\n",
              "Classifications    364111\n",
              "Entities           364285\n",
              "Alexa Rank              0\n",
              "Alexa Reach             0\n",
              "Title                   0\n",
              "Snippet            503538\n",
              "Contents           503538\n",
              "Summary            435524\n",
              "Bio                385277\n",
              "Unique ID          503538\n",
              "Post Source        503538\n",
              "OK                      0\n",
              "OK1                     0\n",
              "dtype: int64"
            ]
          },
          "metadata": {
            "tags": []
          },
          "execution_count": 13
        }
      ]
    },
    {
      "cell_type": "code",
      "metadata": {
        "id": "LYWTwpW5KKnx",
        "colab": {
          "base_uri": "https://localhost:8080/",
          "height": 153
        },
        "outputId": "801279a3-f1a2-4d46-ed51-007a2ff7a01e"
      },
      "source": [
        "df.columns"
      ],
      "execution_count": null,
      "outputs": [
        {
          "output_type": "execute_result",
          "data": {
            "text/plain": [
              "Index(['No', 'Source', 'Host', 'Link', 'Date(ET)', 'Time(ET)', 'LocalTime',\n",
              "       'Category', 'Author ID', 'Author Name', 'Author URL', 'Authority',\n",
              "       'Followers', 'Following', 'Age', 'Gender', 'Language', 'Country',\n",
              "       'Province/State', 'City', 'Location', 'Sentiment', 'Themes',\n",
              "       'Classifications', 'Entities', 'Alexa Rank', 'Alexa Reach', 'Title',\n",
              "       'Snippet', 'Contents', 'Summary', 'Bio', 'Unique ID', 'Post Source',\n",
              "       'OK', 'OK1'],\n",
              "      dtype='object')"
            ]
          },
          "metadata": {
            "tags": []
          },
          "execution_count": 14
        }
      ]
    },
    {
      "cell_type": "code",
      "metadata": {
        "id": "Et-iY5ZAKNqc",
        "colab": {
          "base_uri": "https://localhost:8080/",
          "height": 119
        },
        "outputId": "9f2e5004-ad28-4067-d063-342efcdc03b3"
      },
      "source": [
        "df=df.drop(['No', 'Source', 'Host', 'Link', 'Date(ET)', 'Time(ET)', 'LocalTime',\n",
        "       'Category', 'Author ID', 'Author Name', 'Author URL', 'Authority','Language', 'Country',\n",
        "       'Province/State', 'City', 'Location','Themes',\n",
        "       'Classifications', 'Entities', 'Alexa Rank', 'Alexa Reach', 'Title',\n",
        "       'Snippet', 'Summary', 'Bio', 'Unique ID', 'Post Source',\n",
        "       'OK', 'OK1','Age'],axis=1)\n",
        "df.count()"
      ],
      "execution_count": null,
      "outputs": [
        {
          "output_type": "execute_result",
          "data": {
            "text/plain": [
              "Followers    503526\n",
              "Following    503526\n",
              "Gender       274005\n",
              "Sentiment    503538\n",
              "Contents     503538\n",
              "dtype: int64"
            ]
          },
          "metadata": {
            "tags": []
          },
          "execution_count": 6
        }
      ]
    },
    {
      "cell_type": "code",
      "metadata": {
        "id": "mS3ExQxQKzUf",
        "colab": {
          "base_uri": "https://localhost:8080/",
          "height": 119
        },
        "outputId": "bc62b940-08c8-436c-c90f-f214fd507ca6"
      },
      "source": [
        "df.count()"
      ],
      "execution_count": null,
      "outputs": [
        {
          "output_type": "execute_result",
          "data": {
            "text/plain": [
              "Followers    503526\n",
              "Following    503526\n",
              "Gender       274005\n",
              "Sentiment    503538\n",
              "Contents     503538\n",
              "dtype: int64"
            ]
          },
          "metadata": {
            "tags": []
          },
          "execution_count": 16
        }
      ]
    },
    {
      "cell_type": "code",
      "metadata": {
        "id": "eHdtJ53cJgl5"
      },
      "source": [
        "def gender_score(x):\n",
        "  if(x=='FEMALE'):\n",
        "    return 1\n",
        "  elif(x=='MALE'):\n",
        "    return 0\n",
        "  else:\n",
        "    return -1"
      ],
      "execution_count": null,
      "outputs": []
    },
    {
      "cell_type": "code",
      "metadata": {
        "id": "KX2YwVGMK10p"
      },
      "source": [
        "df['Gender']=df['Gender'].map(gender_score)"
      ],
      "execution_count": null,
      "outputs": []
    },
    {
      "cell_type": "code",
      "metadata": {
        "id": "i4XNbps1LMlM",
        "colab": {
          "base_uri": "https://localhost:8080/",
          "height": 119
        },
        "outputId": "35690088-8647-4993-f763-0dc2f17e5fc4"
      },
      "source": [
        "df.count()"
      ],
      "execution_count": null,
      "outputs": [
        {
          "output_type": "execute_result",
          "data": {
            "text/plain": [
              "Followers    503526\n",
              "Following    503526\n",
              "Gender       503538\n",
              "Sentiment    503538\n",
              "Contents     503538\n",
              "dtype: int64"
            ]
          },
          "metadata": {
            "tags": []
          },
          "execution_count": 19
        }
      ]
    },
    {
      "cell_type": "code",
      "metadata": {
        "id": "cIb4Dg8-LPWD"
      },
      "source": [
        "df=df.dropna(subset=['Followers','Following'])"
      ],
      "execution_count": null,
      "outputs": []
    },
    {
      "cell_type": "code",
      "metadata": {
        "id": "KDfhoMdXLhUB",
        "colab": {
          "base_uri": "https://localhost:8080/",
          "height": 102
        },
        "outputId": "2e6b0537-ce70-4165-a5e8-83ab9a816b69"
      },
      "source": [
        "df['Sentiment'].value_counts()"
      ],
      "execution_count": null,
      "outputs": [
        {
          "output_type": "execute_result",
          "data": {
            "text/plain": [
              "NEUTRAL     190094\n",
              "POSITIVE    142379\n",
              "NEGATIVE    135193\n",
              "NONE         35860\n",
              "Name: Sentiment, dtype: int64"
            ]
          },
          "metadata": {
            "tags": []
          },
          "execution_count": 10
        }
      ]
    },
    {
      "cell_type": "code",
      "metadata": {
        "id": "EO8uKeMCLa_Y",
        "colab": {
          "base_uri": "https://localhost:8080/",
          "height": 119
        },
        "outputId": "010f464e-3c52-4cb9-ff3d-90434966fd26"
      },
      "source": [
        "ind=df[df['Sentiment']=='NONE'].index\n",
        "a=df.copy()\n",
        "df=df.drop(index=ind)\n",
        "df.count()"
      ],
      "execution_count": null,
      "outputs": [
        {
          "output_type": "execute_result",
          "data": {
            "text/plain": [
              "Followers    467666\n",
              "Following    467666\n",
              "Gender       467666\n",
              "Sentiment    467666\n",
              "Contents     467666\n",
              "dtype: int64"
            ]
          },
          "metadata": {
            "tags": []
          },
          "execution_count": 11
        }
      ]
    },
    {
      "cell_type": "markdown",
      "metadata": {
        "id": "KXvjdkutJ4s7"
      },
      "source": [
        "## next "
      ]
    },
    {
      "cell_type": "code",
      "metadata": {
        "id": "yhElkLIwcUh5"
      },
      "source": [
        "#cleaning the tweets\n",
        "\n",
        "df['clean']=df['Contents']\n",
        "df['clean']=df['clean'].apply(lambda x: p.clean(str(x)))\n",
        "df['clean']=df['clean'].apply(lambda x: x.lower())\n",
        "df['clean']=df['clean'].apply(lambda x: re.sub(r'\\d+','',x))\n",
        "df['clean']=df['clean'].apply(lambda x:re.sub(r\"[\\\"#$%&()*+,-./:;<=>?@[\\]^_`{|}~]\", \"\",x, flags=re.I))\n",
        "df['clean']=df['clean'].apply(lambda x:re.sub(r\"\\s+\",\" \",x, flags = re.I))"
      ],
      "execution_count": null,
      "outputs": []
    },
    {
      "cell_type": "code",
      "metadata": {
        "id": "tLdw0TyYZmwg"
      },
      "source": [
        "#from google.colab import files\n",
        "#files.upload()"
      ],
      "execution_count": null,
      "outputs": []
    },
    {
      "cell_type": "code",
      "metadata": {
        "id": "MdmbGQyHZtZQ"
      },
      "source": [
        "#reading the emoji popularity excel file \n",
        "emoji_df=pd.read_excel('/content/drive/My Drive/GSTN/Emoji_Popularity_index.xlsx')"
      ],
      "execution_count": null,
      "outputs": []
    },
    {
      "cell_type": "code",
      "metadata": {
        "id": "zIjmOvgJ82hR"
      },
      "source": [
        "#emoji_df=pd.read_excel('~/Desktop/Emoji_Popularity_index.xlsx')"
      ],
      "execution_count": null,
      "outputs": []
    },
    {
      "cell_type": "code",
      "metadata": {
        "id": "R-uV4bu9Z_ea"
      },
      "source": [
        "#remove null rows and resetting the index\n",
        "emoji_df=emoji_df.dropna()\n",
        "emoji_df=emoji_df.reset_index()"
      ],
      "execution_count": null,
      "outputs": []
    },
    {
      "cell_type": "code",
      "metadata": {
        "id": "CPkf0h5UaANn"
      },
      "source": [
        "#emoji_df.head()"
      ],
      "execution_count": null,
      "outputs": []
    },
    {
      "cell_type": "code",
      "metadata": {
        "id": "8op6lzijgIUF"
      },
      "source": [
        "#create a dictionary where key: emoji, value: polarity\n",
        "emoji_dict=dict(zip(emoji_df['Emoji'],emoji_df['Polarity']))"
      ],
      "execution_count": null,
      "outputs": []
    },
    {
      "cell_type": "code",
      "metadata": {
        "id": "kmc13Ac3gXe-"
      },
      "source": [
        "#emoji_dict.keys()"
      ],
      "execution_count": null,
      "outputs": []
    },
    {
      "cell_type": "code",
      "metadata": {
        "id": "yyAl5BnBnWE2",
        "colab": {
          "base_uri": "https://localhost:8080/",
          "height": 187
        },
        "outputId": "30754866-2edb-4614-c6af-222cf44d744d"
      },
      "source": [
        "#installing library\n",
        "!pip install emoji\n",
        "import emoji\n",
        " \n",
        "#function to extract emoji from the text\n",
        "def emoji_extract(x):\n",
        "  try:\n",
        "    x=str(x).encode('latin-1').decode('utf-8').strip()\n",
        "    a=''.join(c for c in x if c in emoji_dict.keys())\n",
        "    if(a==''):\n",
        "      return None\n",
        "    else:\n",
        "      return a\n",
        "  except UnicodeDecodeError:\n",
        "    return None\n"
      ],
      "execution_count": null,
      "outputs": [
        {
          "output_type": "stream",
          "text": [
            "Collecting emoji\n",
            "\u001b[?25l  Downloading https://files.pythonhosted.org/packages/40/8d/521be7f0091fe0f2ae690cc044faf43e3445e0ff33c574eae752dd7e39fa/emoji-0.5.4.tar.gz (43kB)\n",
            "\r\u001b[K     |███████▌                        | 10kB 21.0MB/s eta 0:00:01\r\u001b[K     |███████████████                 | 20kB 3.1MB/s eta 0:00:01\r\u001b[K     |██████████████████████▋         | 30kB 3.8MB/s eta 0:00:01\r\u001b[K     |██████████████████████████████▏ | 40kB 4.2MB/s eta 0:00:01\r\u001b[K     |████████████████████████████████| 51kB 2.6MB/s \n",
            "\u001b[?25hBuilding wheels for collected packages: emoji\n",
            "  Building wheel for emoji (setup.py) ... \u001b[?25l\u001b[?25hdone\n",
            "  Created wheel for emoji: filename=emoji-0.5.4-cp36-none-any.whl size=42176 sha256=00bb4900a7cc4b394b7a552d60e390c72f79238c72476d29f166ffdb24f86d5c\n",
            "  Stored in directory: /root/.cache/pip/wheels/2a/a9/0a/4f8e8cce8074232aba240caca3fade315bb49fac68808d1a9c\n",
            "Successfully built emoji\n",
            "Installing collected packages: emoji\n",
            "Successfully installed emoji-0.5.4\n"
          ],
          "name": "stdout"
        }
      ]
    },
    {
      "cell_type": "code",
      "metadata": {
        "id": "VZFwyucOWG6A"
      },
      "source": [
        "#function to get the total score of polarity of emojis used in each tweet\n",
        "\n",
        "def total_polarity(x):\n",
        "  if(x!=None):\n",
        "    a=[] # to store the polarity of individual emojis\n",
        "    for i in range(len(x)): #x is the string having emojis\n",
        "      if(x[i] in emoji_dict.keys()):\n",
        "        a.append(emoji_dict[x[i]])\n",
        "      else:\n",
        "        a.append(0)\n",
        "    return sum(a)\n",
        "  else:\n",
        "    return 0"
      ],
      "execution_count": null,
      "outputs": []
    },
    {
      "cell_type": "code",
      "metadata": {
        "id": "p5LRzZOBmNq6"
      },
      "source": [
        "df['emoji']=df['Contents']\n",
        "df['emoji']=df['emoji'].map(emoji_extract)"
      ],
      "execution_count": null,
      "outputs": []
    },
    {
      "cell_type": "code",
      "metadata": {
        "id": "hZyFbUQOkJdD"
      },
      "source": [
        "#df['emoji'].unique()"
      ],
      "execution_count": null,
      "outputs": []
    },
    {
      "cell_type": "code",
      "metadata": {
        "id": "m4_rmeFxVe_e"
      },
      "source": [
        "#df['emoji'].value_counts()"
      ],
      "execution_count": null,
      "outputs": []
    },
    {
      "cell_type": "code",
      "metadata": {
        "id": "IZ1ImA0GhLrd"
      },
      "source": [
        "#map the emoji to polarity\n",
        "df['polarity']=df['emoji']\n",
        "df['polarity']=df['polarity'].map(total_polarity)"
      ],
      "execution_count": null,
      "outputs": []
    },
    {
      "cell_type": "code",
      "metadata": {
        "id": "PGs43Q7hTzR_"
      },
      "source": [
        ">>> str1=\"hello\"\n",
        ">>> str2='python'\n",
        ">>> str3='''this is my first class of string.\n",
        "Here I learnt how to declare a string'''\n"
      ],
      "execution_count": null,
      "outputs": []
    },
    {
      "cell_type": "code",
      "metadata": {
        "id": "cRJ97S_ZY9FN"
      },
      "source": [
        "#count number of emojis\n",
        "def count_emoji(x):\n",
        "  if(x!=None):\n",
        "    return len(x)\n",
        "  else:\n",
        "    return 0"
      ],
      "execution_count": null,
      "outputs": []
    },
    {
      "cell_type": "code",
      "metadata": {
        "id": "7C_64ResZOPP"
      },
      "source": [
        "df['cnt_emoji']=df['emoji'].map(count_emoji)"
      ],
      "execution_count": null,
      "outputs": []
    },
    {
      "cell_type": "code",
      "metadata": {
        "id": "h8Ag-zZWZSHP"
      },
      "source": [
        "#df['cnt_emoji'].value_counts()"
      ],
      "execution_count": null,
      "outputs": []
    },
    {
      "cell_type": "code",
      "metadata": {
        "id": "j5yv_O0f8a8s"
      },
      "source": [
        "df['char_count']=df['clean'].apply(lambda x: len(str(x)))"
      ],
      "execution_count": null,
      "outputs": []
    },
    {
      "cell_type": "code",
      "metadata": {
        "id": "X6ObCIxXG6FO"
      },
      "source": [
        "#df.Sentiment.value_counts()"
      ],
      "execution_count": null,
      "outputs": []
    },
    {
      "cell_type": "code",
      "metadata": {
        "id": "Xeb6bcqZG9ho"
      },
      "source": [
        "def sentiment_score(x):\n",
        "  if(x=='POSITIVE'):\n",
        "    return 1\n",
        "  elif(x=='NEGATIVE'):\n",
        "    return -1\n",
        "  elif(x=='NEUTRAL'):\n",
        "    return 0   "
      ],
      "execution_count": null,
      "outputs": []
    },
    {
      "cell_type": "code",
      "metadata": {
        "id": "qkkmxSamIkCY"
      },
      "source": [
        "df['senti_score']=df['Sentiment'].map(sentiment_score)"
      ],
      "execution_count": null,
      "outputs": []
    },
    {
      "cell_type": "code",
      "metadata": {
        "id": "GWVTaNI5IoYm"
      },
      "source": [
        "#df['senti_score'].value_counts()"
      ],
      "execution_count": null,
      "outputs": []
    },
    {
      "cell_type": "code",
      "metadata": {
        "id": "4CDnjEY0JdXr"
      },
      "source": [
        "#df.columns"
      ],
      "execution_count": null,
      "outputs": []
    },
    {
      "cell_type": "code",
      "metadata": {
        "id": "m3euT-mZJBSj"
      },
      "source": [
        "#df['Gender'].value_counts()"
      ],
      "execution_count": null,
      "outputs": []
    },
    {
      "cell_type": "code",
      "metadata": {
        "id": "Y6uKIGFgLMZ1"
      },
      "source": [
        "#df['Gender'].value_counts()"
      ],
      "execution_count": null,
      "outputs": []
    },
    {
      "cell_type": "code",
      "metadata": {
        "id": "xDgGrADfLOpy"
      },
      "source": [
        "def is_it(x,num):\n",
        "  if(x==num):\n",
        "    return 1\n",
        "  else:\n",
        "    return 0"
      ],
      "execution_count": null,
      "outputs": []
    },
    {
      "cell_type": "code",
      "metadata": {
        "id": "d-hf6wJRLjdB"
      },
      "source": [
        "df['female']=df['Gender'].apply(lambda x: is_it(x,1))\n",
        "df['male']=df['Gender'].apply(lambda x: is_it(x,0))\n",
        "df['no_gender']=df['Gender'].apply(lambda x: is_it(x,-1))"
      ],
      "execution_count": null,
      "outputs": []
    },
    {
      "cell_type": "code",
      "metadata": {
        "id": "NO-7wgqcLqaW"
      },
      "source": [
        "#df['female'].value_counts()"
      ],
      "execution_count": null,
      "outputs": []
    },
    {
      "cell_type": "code",
      "metadata": {
        "id": "uxW3HlkhMmfy"
      },
      "source": [
        "df=df.reset_index()"
      ],
      "execution_count": null,
      "outputs": []
    },
    {
      "cell_type": "code",
      "metadata": {
        "id": "37XkK8K3Z-zP"
      },
      "source": [
        "new_df=df.copy()"
      ],
      "execution_count": null,
      "outputs": []
    },
    {
      "cell_type": "code",
      "metadata": {
        "id": "kUXbGi17acFs",
        "colab": {
          "base_uri": "https://localhost:8080/",
          "height": 85
        },
        "outputId": "e83308f2-9181-4937-c9e1-5eacce11e5b2"
      },
      "source": [
        "df.columns"
      ],
      "execution_count": null,
      "outputs": [
        {
          "output_type": "execute_result",
          "data": {
            "text/plain": [
              "Index(['index', 'Followers', 'Following', 'Gender', 'Sentiment', 'Contents',\n",
              "       'clean', 'emoji', 'polarity', 'cnt_emoji', 'char_count', 'senti_score',\n",
              "       'female', 'male', 'no_gender'],\n",
              "      dtype='object')"
            ]
          },
          "metadata": {
            "tags": []
          },
          "execution_count": 53
        }
      ]
    },
    {
      "cell_type": "code",
      "metadata": {
        "id": "o5D4_XdDaHJR"
      },
      "source": [
        "new_df=new_df.drop(columns=['index','Gender','Sentiment','emoji'])#,'level_0'])"
      ],
      "execution_count": null,
      "outputs": []
    },
    {
      "cell_type": "code",
      "metadata": {
        "id": "SsKEE3_6sVYj",
        "colab": {
          "base_uri": "https://localhost:8080/",
          "height": 221
        },
        "outputId": "bb04bf14-84d8-4137-d98f-5d54bc6159d4"
      },
      "source": [
        "new_df.count()"
      ],
      "execution_count": null,
      "outputs": [
        {
          "output_type": "execute_result",
          "data": {
            "text/plain": [
              "Followers      467666\n",
              "Following      467666\n",
              "Contents       467666\n",
              "clean          467666\n",
              "polarity       467666\n",
              "cnt_emoji      467666\n",
              "char_count     467666\n",
              "senti_score    467666\n",
              "female         467666\n",
              "male           467666\n",
              "no_gender      467666\n",
              "dtype: int64"
            ]
          },
          "metadata": {
            "tags": []
          },
          "execution_count": 55
        }
      ]
    },
    {
      "cell_type": "code",
      "metadata": {
        "id": "kHCTBOEzCgTk",
        "colab": {
          "base_uri": "https://localhost:8080/",
          "height": 238
        },
        "outputId": "ba389c10-bc0c-47df-c8f6-2d508502a594"
      },
      "source": [
        "new_df=new_df.dropna()\n",
        "new_df=new_df.reset_index()\n",
        "new_df.count()"
      ],
      "execution_count": null,
      "outputs": [
        {
          "output_type": "execute_result",
          "data": {
            "text/plain": [
              "index          467666\n",
              "Followers      467666\n",
              "Following      467666\n",
              "Contents       467666\n",
              "clean          467666\n",
              "polarity       467666\n",
              "cnt_emoji      467666\n",
              "char_count     467666\n",
              "senti_score    467666\n",
              "female         467666\n",
              "male           467666\n",
              "no_gender      467666\n",
              "dtype: int64"
            ]
          },
          "metadata": {
            "tags": []
          },
          "execution_count": 30
        }
      ]
    },
    {
      "cell_type": "code",
      "metadata": {
        "id": "3GKTOx2KLxEk"
      },
      "source": [
        "X=new_df.drop(columns=['senti_score','index'])\n",
        "y=new_df['senti_score']"
      ],
      "execution_count": null,
      "outputs": []
    },
    {
      "cell_type": "code",
      "metadata": {
        "id": "T56mxxVu66j0"
      },
      "source": [
        "X.to_csv('xdata.csv')\n",
        "y.to_csv('ydata.csv')"
      ],
      "execution_count": null,
      "outputs": []
    },
    {
      "cell_type": "markdown",
      "metadata": {
        "id": "cUbDNdY07tyE"
      },
      "source": [
        "## Evaluation of models"
      ]
    },
    {
      "cell_type": "code",
      "metadata": {
        "id": "qBSv_Ym-7nJZ"
      },
      "source": [
        "X=pd.read_csv('/content/drive/My Drive/xdata.csv')\n",
        "y=pd.read_csv('/content/drive/My Drive/ydata.csv')"
      ],
      "execution_count": null,
      "outputs": []
    },
    {
      "cell_type": "code",
      "metadata": {
        "id": "HnPKjJit76NH",
        "colab": {
          "base_uri": "https://localhost:8080/",
          "height": 221
        },
        "outputId": "08b53acf-a87a-4ecb-bfff-156b26d7d910"
      },
      "source": [
        "X.count()"
      ],
      "execution_count": null,
      "outputs": [
        {
          "output_type": "execute_result",
          "data": {
            "text/plain": [
              "Unnamed: 0    467666\n",
              "Followers     467666\n",
              "Following     467666\n",
              "Contents      467666\n",
              "clean         465023\n",
              "polarity      467666\n",
              "cnt_emoji     467666\n",
              "char_count    467666\n",
              "female        467666\n",
              "male          467666\n",
              "no_gender     467666\n",
              "dtype: int64"
            ]
          },
          "metadata": {
            "tags": []
          },
          "execution_count": 9
        }
      ]
    },
    {
      "cell_type": "code",
      "metadata": {
        "id": "t24qDxsH78Sb",
        "colab": {
          "base_uri": "https://localhost:8080/",
          "height": 68
        },
        "outputId": "b5936da4-97c0-460f-83a1-724b79f52195"
      },
      "source": [
        "y.count()"
      ],
      "execution_count": null,
      "outputs": [
        {
          "output_type": "execute_result",
          "data": {
            "text/plain": [
              "Unnamed: 0     467666\n",
              "senti_score    467666\n",
              "dtype: int64"
            ]
          },
          "metadata": {
            "tags": []
          },
          "execution_count": 10
        }
      ]
    },
    {
      "cell_type": "code",
      "metadata": {
        "id": "r66d8e9u8Fit"
      },
      "source": [
        "X=X.drop(labels='Unnamed: 0',axis=1)\n",
        "y=y.drop(labels='Unnamed: 0',axis=1)"
      ],
      "execution_count": null,
      "outputs": []
    },
    {
      "cell_type": "code",
      "metadata": {
        "id": "EnzYegn1EG4P"
      },
      "source": [
        "y=y['senti_score']"
      ],
      "execution_count": null,
      "outputs": []
    },
    {
      "cell_type": "code",
      "metadata": {
        "id": "2gCWluhEZbQZ",
        "colab": {
          "base_uri": "https://localhost:8080/",
          "height": 34
        },
        "outputId": "e12c7de5-0498-46a2-af74-753a0e511559"
      },
      "source": [
        "#import libraries required\n",
        "from sklearn.model_selection import train_test_split\n",
        "\n",
        "# Split into train and test data\n",
        "X_train, X_test, y_train, y_test = train_test_split(X, y, test_size=0.3, random_state=0)\n",
        "\n",
        "print(X_train.shape, X_test.shape, y_train.shape, y_test.shape)"
      ],
      "execution_count": null,
      "outputs": [
        {
          "output_type": "stream",
          "text": [
            "(327366, 10) (140300, 10) (327366,) (140300,)\n"
          ],
          "name": "stdout"
        }
      ]
    },
    {
      "cell_type": "code",
      "metadata": {
        "id": "XO-4meiQbHvG",
        "colab": {
          "base_uri": "https://localhost:8080/",
          "height": 153
        },
        "outputId": "cb8f7024-fce0-41ee-da9b-eaa1df597bc2"
      },
      "source": [
        "print(y_train.value_counts().sort_index(), \"\\n\",y_test.value_counts().sort_index())"
      ],
      "execution_count": null,
      "outputs": [
        {
          "output_type": "stream",
          "text": [
            "-1     94678\n",
            " 0    132966\n",
            " 1     99722\n",
            "Name: senti_score, dtype: int64 \n",
            " -1    40515\n",
            " 0    57128\n",
            " 1    42657\n",
            "Name: senti_score, dtype: int64\n"
          ],
          "name": "stdout"
        }
      ]
    },
    {
      "cell_type": "code",
      "metadata": {
        "id": "TY4ygqiycCQZ",
        "colab": {
          "base_uri": "https://localhost:8080/",
          "height": 51
        },
        "outputId": "b4f7b4a9-a323-4ddd-d775-e12288521477"
      },
      "source": [
        "#libraries\n",
        "from nltk.tokenize import TweetTokenizer\n",
        "from nltk.corpus import stopwords\n",
        "import nltk\n",
        "nltk.download('stopwords')\n",
        "from sklearn.feature_extraction.text import TfidfVectorizer\n",
        "from sklearn.cluster import KMeans\n",
        "import numpy as np\n",
        "import pandas as pd\n",
        "from matplotlib import pyplot as plt"
      ],
      "execution_count": null,
      "outputs": [
        {
          "output_type": "stream",
          "text": [
            "[nltk_data] Downloading package stopwords to /root/nltk_data...\n",
            "[nltk_data]   Package stopwords is already up-to-date!\n"
          ],
          "name": "stdout"
        }
      ]
    },
    {
      "cell_type": "code",
      "metadata": {
        "id": "C-8Nwt_TcpNz"
      },
      "source": [
        "#tokenizer function to be passed into the Tfidf vectorizer\n",
        "def my_tokenizer(text):\n",
        "    \"\"\"\n",
        "    Convert text to a list of tokens using NLTK's TweetTokenizer\n",
        "    \"\"\"\n",
        "    tokenizer = TweetTokenizer(preserve_case=False,reduce_len=True,strip_handles=False)\n",
        "    tokens = tokenizer.tokenize(text)\n",
        "    return tokens"
      ],
      "execution_count": null,
      "outputs": []
    },
    {
      "cell_type": "code",
      "metadata": {
        "id": "Ljk7TI17ctkN"
      },
      "source": [
        "my_stop_words=set(stopwords.words('english')+['com'])\n",
        "mx_num=1000"
      ],
      "execution_count": null,
      "outputs": []
    },
    {
      "cell_type": "code",
      "metadata": {
        "id": "an6W0_DUWRA0"
      },
      "source": [
        "vectorizer = TfidfVectorizer(analyzer = 'word',ngram_range=(1,1),max_features=mx_num,tokenizer=my_tokenizer, stop_words= my_stop_words)"
      ],
      "execution_count": null,
      "outputs": []
    },
    {
      "cell_type": "code",
      "metadata": {
        "id": "6wjf5ZILdpwe",
        "colab": {
          "base_uri": "https://localhost:8080/",
          "height": 309
        },
        "outputId": "8a9f1eaa-ac89-4904-eef1-e688a631f637"
      },
      "source": [
        "vectorizer.fit(X['clean'].values.astype('U'))"
      ],
      "execution_count": null,
      "outputs": [
        {
          "output_type": "stream",
          "text": [
            "/usr/local/lib/python3.6/dist-packages/sklearn/feature_extraction/text.py:507: UserWarning: The parameter 'token_pattern' will not be used since 'tokenizer' is not None'\n",
            "  warnings.warn(\"The parameter 'token_pattern' will not be used\"\n"
          ],
          "name": "stderr"
        },
        {
          "output_type": "execute_result",
          "data": {
            "text/plain": [
              "TfidfVectorizer(analyzer='word', binary=False, decode_error='strict',\n",
              "                dtype=<class 'numpy.float64'>, encoding='utf-8',\n",
              "                input='content', lowercase=True, max_df=1.0, max_features=1000,\n",
              "                min_df=1, ngram_range=(1, 1), norm='l2', preprocessor=None,\n",
              "                smooth_idf=True,\n",
              "                stop_words={'a', 'about', 'above', 'after', 'again', 'against',\n",
              "                            'ain', 'all', 'am', 'an', 'and', 'any', 'are',\n",
              "                            'aren', \"aren't\", 'as', 'at', 'be', 'because',\n",
              "                            'been', 'before', 'being', 'below', 'between',\n",
              "                            'both', 'but', 'by', 'can', 'com', 'couldn', ...},\n",
              "                strip_accents=None, sublinear_tf=False,\n",
              "                token_pattern='(?u)\\\\b\\\\w\\\\w+\\\\b',\n",
              "                tokenizer=<function my_tokenizer at 0x7f57593f6840>,\n",
              "                use_idf=True, vocabulary=None)"
            ]
          },
          "metadata": {
            "tags": []
          },
          "execution_count": 22
        }
      ]
    },
    {
      "cell_type": "code",
      "metadata": {
        "id": "2RmBwHM2D1DD",
        "colab": {
          "base_uri": "https://localhost:8080/",
          "height": 34
        },
        "outputId": "616e5bba-e6b5-48e3-de0d-fc0062fc2d2a"
      },
      "source": [
        "type(X_train['clean'])"
      ],
      "execution_count": null,
      "outputs": [
        {
          "output_type": "execute_result",
          "data": {
            "text/plain": [
              "pandas.core.series.Series"
            ]
          },
          "metadata": {
            "tags": []
          },
          "execution_count": 23
        }
      ]
    },
    {
      "cell_type": "code",
      "metadata": {
        "id": "DMz2MX4sc6LZ"
      },
      "source": [
        "train_tfidf=vectorizer.transform(X_train['clean'].values.astype('U'))\n",
        "test_tfidf=vectorizer.transform(X_test['clean'].values.astype('U'))"
      ],
      "execution_count": null,
      "outputs": []
    },
    {
      "cell_type": "code",
      "metadata": {
        "id": "YlH4tVwceB5V",
        "colab": {
          "base_uri": "https://localhost:8080/",
          "height": 34
        },
        "outputId": "c4bc3592-2935-4b23-e8ba-38d927ba0c5a"
      },
      "source": [
        "print(train_tfidf.shape,test_tfidf.shape,y_train.shape,y_test.shape)"
      ],
      "execution_count": null,
      "outputs": [
        {
          "output_type": "stream",
          "text": [
            "(327366, 1000) (140300, 1000) (327366,) (140300,)\n"
          ],
          "name": "stdout"
        }
      ]
    },
    {
      "cell_type": "code",
      "metadata": {
        "id": "ROzWXw5werxu",
        "colab": {
          "base_uri": "https://localhost:8080/",
          "height": 884
        },
        "outputId": "9885b5d8-5473-4980-b480-2c25c6d7fc97"
      },
      "source": [
        "mean_cnt_emoji=X_train['cnt_emoji'].mean()\n",
        "std_cnt_emoji=X_train['cnt_emoji'].std()\n",
        "\n",
        "mean_char_count=X_train['char_count'].mean()\n",
        "std_char_count=X_train['char_count'].std()\n",
        "\n",
        "mean_followers=X_train['Followers'].mean()\n",
        "std_followers=X_train['Followers'].std()\n",
        "\n",
        "mean_following=X_train['Following'].mean()\n",
        "std_following=X_train['Following'].std()\n",
        "\n",
        "mean_emoji_polarity=X_train['polarity'].mean()\n",
        "std_emoji_polarity=X_train['polarity'].std()\n",
        "\n",
        "X_train['std_cnt_emoji'] = X_train['cnt_emoji'].map(lambda x : (x -mean_cnt_emoji )/std_cnt_emoji)\n",
        "X_test['std_cnt_emoji'] = X_test['cnt_emoji'].map(lambda x : (x -mean_cnt_emoji )/std_cnt_emoji)\n",
        "\n",
        "X_train['std_char_count'] = X_train['char_count'].map(lambda x : (x -mean_char_count)/std_char_count)\n",
        "X_test['std_char_count'] = X_test['char_count'].map(lambda x : (x -mean_char_count)/std_char_count)\n",
        "\n",
        "\n",
        "X_train['std_followers'] = X_train['Followers'].map(lambda x: (x -mean_followers)/std_followers)\n",
        "X_test['std_followers'] = X_test['Followers'].map(lambda x: (x -mean_followers)/std_followers)\n",
        "\n",
        "X_train['std_following'] = X_train['Following'].map(lambda x: (x -mean_following)/std_following)\n",
        "X_test['std_following'] = X_test['Following'].map(lambda x: (x -mean_following)/std_following)\n",
        "\n",
        "X_train['std_emoji_polarity'] = X_train['polarity'].map(lambda x:  (x -mean_emoji_polarity)/std_emoji_polarity)\n",
        "X_test['std_emoji_polarity'] = X_test['polarity'].map(lambda x: (x -mean_emoji_polarity)/std_emoji_polarity)\n"
      ],
      "execution_count": null,
      "outputs": [
        {
          "output_type": "stream",
          "text": [
            "/usr/local/lib/python3.6/dist-packages/ipykernel_launcher.py:16: SettingWithCopyWarning: \n",
            "A value is trying to be set on a copy of a slice from a DataFrame.\n",
            "Try using .loc[row_indexer,col_indexer] = value instead\n",
            "\n",
            "See the caveats in the documentation: https://pandas.pydata.org/pandas-docs/stable/user_guide/indexing.html#returning-a-view-versus-a-copy\n",
            "  app.launch_new_instance()\n",
            "/usr/local/lib/python3.6/dist-packages/ipykernel_launcher.py:17: SettingWithCopyWarning: \n",
            "A value is trying to be set on a copy of a slice from a DataFrame.\n",
            "Try using .loc[row_indexer,col_indexer] = value instead\n",
            "\n",
            "See the caveats in the documentation: https://pandas.pydata.org/pandas-docs/stable/user_guide/indexing.html#returning-a-view-versus-a-copy\n",
            "/usr/local/lib/python3.6/dist-packages/ipykernel_launcher.py:19: SettingWithCopyWarning: \n",
            "A value is trying to be set on a copy of a slice from a DataFrame.\n",
            "Try using .loc[row_indexer,col_indexer] = value instead\n",
            "\n",
            "See the caveats in the documentation: https://pandas.pydata.org/pandas-docs/stable/user_guide/indexing.html#returning-a-view-versus-a-copy\n",
            "/usr/local/lib/python3.6/dist-packages/ipykernel_launcher.py:20: SettingWithCopyWarning: \n",
            "A value is trying to be set on a copy of a slice from a DataFrame.\n",
            "Try using .loc[row_indexer,col_indexer] = value instead\n",
            "\n",
            "See the caveats in the documentation: https://pandas.pydata.org/pandas-docs/stable/user_guide/indexing.html#returning-a-view-versus-a-copy\n",
            "/usr/local/lib/python3.6/dist-packages/ipykernel_launcher.py:23: SettingWithCopyWarning: \n",
            "A value is trying to be set on a copy of a slice from a DataFrame.\n",
            "Try using .loc[row_indexer,col_indexer] = value instead\n",
            "\n",
            "See the caveats in the documentation: https://pandas.pydata.org/pandas-docs/stable/user_guide/indexing.html#returning-a-view-versus-a-copy\n",
            "/usr/local/lib/python3.6/dist-packages/ipykernel_launcher.py:24: SettingWithCopyWarning: \n",
            "A value is trying to be set on a copy of a slice from a DataFrame.\n",
            "Try using .loc[row_indexer,col_indexer] = value instead\n",
            "\n",
            "See the caveats in the documentation: https://pandas.pydata.org/pandas-docs/stable/user_guide/indexing.html#returning-a-view-versus-a-copy\n",
            "/usr/local/lib/python3.6/dist-packages/ipykernel_launcher.py:26: SettingWithCopyWarning: \n",
            "A value is trying to be set on a copy of a slice from a DataFrame.\n",
            "Try using .loc[row_indexer,col_indexer] = value instead\n",
            "\n",
            "See the caveats in the documentation: https://pandas.pydata.org/pandas-docs/stable/user_guide/indexing.html#returning-a-view-versus-a-copy\n",
            "/usr/local/lib/python3.6/dist-packages/ipykernel_launcher.py:27: SettingWithCopyWarning: \n",
            "A value is trying to be set on a copy of a slice from a DataFrame.\n",
            "Try using .loc[row_indexer,col_indexer] = value instead\n",
            "\n",
            "See the caveats in the documentation: https://pandas.pydata.org/pandas-docs/stable/user_guide/indexing.html#returning-a-view-versus-a-copy\n",
            "/usr/local/lib/python3.6/dist-packages/ipykernel_launcher.py:29: SettingWithCopyWarning: \n",
            "A value is trying to be set on a copy of a slice from a DataFrame.\n",
            "Try using .loc[row_indexer,col_indexer] = value instead\n",
            "\n",
            "See the caveats in the documentation: https://pandas.pydata.org/pandas-docs/stable/user_guide/indexing.html#returning-a-view-versus-a-copy\n",
            "/usr/local/lib/python3.6/dist-packages/ipykernel_launcher.py:30: SettingWithCopyWarning: \n",
            "A value is trying to be set on a copy of a slice from a DataFrame.\n",
            "Try using .loc[row_indexer,col_indexer] = value instead\n",
            "\n",
            "See the caveats in the documentation: https://pandas.pydata.org/pandas-docs/stable/user_guide/indexing.html#returning-a-view-versus-a-copy\n"
          ],
          "name": "stderr"
        }
      ]
    },
    {
      "cell_type": "code",
      "metadata": {
        "id": "7_LBsEy10uZQ"
      },
      "source": [
        "#df.count()"
      ],
      "execution_count": null,
      "outputs": []
    },
    {
      "cell_type": "code",
      "metadata": {
        "id": "G__PJjTOvD10"
      },
      "source": [
        "new_df.columns"
      ],
      "execution_count": null,
      "outputs": []
    },
    {
      "cell_type": "code",
      "metadata": {
        "id": "jjylgda4jtO3"
      },
      "source": [
        "from scipy.sparse import hstack\n",
        "\n",
        "\n",
        "X_train_matrix = hstack((train_tfidf,np.array(X_train['std_cnt_emoji'])[:,None])).tocsr()\n",
        "X_train_matrix = hstack((X_train_matrix,np.array(X_train['std_char_count'])[:,None])).tocsr()\n",
        "X_train_matrix = hstack((X_train_matrix,np.array(X_train['std_followers'])[:,None])).tocsr()\n",
        "X_train_matrix = hstack((X_train_matrix,np.array(X_train['std_following'])[:,None])).tocsr()\n",
        "X_train_matrix = hstack((X_train_matrix,np.array(X_train['male'])[:,None])).tocsr()\n",
        "X_train_matrix = hstack((X_train_matrix,np.array(X_train['female'])[:,None])).tocsr()\n",
        "X_train_matrix = hstack((X_train_matrix,np.array(X_train['no_gender'])[:,None])).tocsr()\n",
        "X_train_matrix = hstack((X_train_matrix,np.array(X_train['std_emoji_polarity'])[:,None])).tocsr()\n",
        "\n",
        "\n",
        "X_test_matrix = hstack((test_tfidf,np.array(X_test['std_cnt_emoji'])[:,None])).tocsr()\n",
        "X_test_matrix = hstack((X_test_matrix,np.array(X_test['std_char_count'])[:,None])).tocsr()\n",
        "X_test_matrix = hstack((X_test_matrix,np.array(X_test['std_followers'])[:,None])).tocsr()\n",
        "X_test_matrix = hstack((X_test_matrix,np.array(X_test['std_following'])[:,None])).tocsr()\n",
        "X_test_matrix = hstack((X_test_matrix,np.array(X_test['male'])[:,None])).tocsr()\n",
        "X_test_matrix = hstack((X_test_matrix,np.array(X_test['female'])[:,None])).tocsr()\n",
        "X_test_matrix = hstack((X_test_matrix,np.array(X_test['no_gender'])[:,None])).tocsr()\n",
        "X_test_matrix = hstack((X_test_matrix,np.array(X_test['std_emoji_polarity'])[:,None])).tocsr()"
      ],
      "execution_count": null,
      "outputs": []
    },
    {
      "cell_type": "code",
      "metadata": {
        "id": "N4iBBxMxkHQG"
      },
      "source": [
        "#max features from tfidf vectorizer + 8 from the above columns\n",
        "print(X_train_matrix.shape, X_test_matrix.shape)"
      ],
      "execution_count": null,
      "outputs": []
    },
    {
      "cell_type": "code",
      "metadata": {
        "id": "GLEFkRS42z4n"
      },
      "source": [
        "type(X_train_matrix.toarray())"
      ],
      "execution_count": null,
      "outputs": []
    },
    {
      "cell_type": "code",
      "metadata": {
        "id": "dHfz9Hh52gvg"
      },
      "source": [
        "#from numpy import save\n",
        "#save('/Desktop/X_train_matrix.npy', X_train_matrix.toarray())"
      ],
      "execution_count": null,
      "outputs": []
    },
    {
      "cell_type": "code",
      "metadata": {
        "id": "W0dHgJZp3UFN"
      },
      "source": [
        "#save('/Desktop/X_test_matrix.npy',X_test_matrix.toarray())"
      ],
      "execution_count": null,
      "outputs": []
    },
    {
      "cell_type": "code",
      "metadata": {
        "id": "KZJMZSLi3y82"
      },
      "source": [
        "#from numpy import load\n",
        "#data = load('/Desktop/X_test_matrix.npy')"
      ],
      "execution_count": null,
      "outputs": []
    },
    {
      "cell_type": "code",
      "metadata": {
        "id": "xFuPQBYM9cad"
      },
      "source": [
        "from sklearn.ensemble import RandomForestClassifier\n",
        "\n",
        "text_classifier = RandomForestClassifier(n_estimators=100, random_state=0,min_samples_leaf=30)"
      ],
      "execution_count": null,
      "outputs": []
    },
    {
      "cell_type": "code",
      "metadata": {
        "id": "Wz6NYUJj9iDm"
      },
      "source": [
        "text_classifier.fit(X_train_matrix.todense(),y_train)"
      ],
      "execution_count": null,
      "outputs": []
    },
    {
      "cell_type": "code",
      "metadata": {
        "id": "kGxNsQEc9ir8"
      },
      "source": [
        "from sklearn.metrics import classification_report, confusion_matrix, accuracy_score\n",
        "#X_test = X_test[:, None]\n",
        "predictions = text_classifier.predict(X_test_matrix)\n",
        "print(confusion_matrix(y_test,predictions))\n",
        "print(classification_report(y_test,predictions))\n",
        "print(accuracy_score(y_test, predictions))\n",
        "print(accuracy_score(y_train,text_classifier.predict(X_train_matrix)))"
      ],
      "execution_count": null,
      "outputs": []
    },
    {
      "cell_type": "code",
      "metadata": {
        "id": "e126tDS69kyl"
      },
      "source": [
        ""
      ],
      "execution_count": null,
      "outputs": []
    },
    {
      "cell_type": "markdown",
      "metadata": {
        "id": "w3O7DR6FiKbc"
      },
      "source": [
        "### gradient boosting classifier"
      ]
    },
    {
      "cell_type": "code",
      "metadata": {
        "id": "4a1EN5WmiPKi"
      },
      "source": [
        "#from sklearn.ensemble import GradientBoostingClassifier\n",
        "\n",
        "#clf = GradientBoostingClassifier(n_estimators=100,random_state=0)\n",
        "#clf.fit(X_train_matrix, y_train)"
      ],
      "execution_count": null,
      "outputs": []
    },
    {
      "cell_type": "code",
      "metadata": {
        "id": "d2eYJo5KioXs"
      },
      "source": [
        "#from sklearn.metrics import classification_report, confusion_matrix, accuracy_score\n",
        "#predictions = clf.predict(X_test_matrix)\n",
        "#print(confusion_matrix(y_test,predictions))\n",
        "#print(classification_report(y_test,predictions))\n",
        "#print(accuracy_score(y_test, predictions))"
      ],
      "execution_count": null,
      "outputs": []
    },
    {
      "cell_type": "markdown",
      "metadata": {
        "id": "L48-TWjQws8S"
      },
      "source": [
        "### random forest - with diff parameters"
      ]
    },
    {
      "cell_type": "code",
      "metadata": {
        "id": "nQY3G50UkO78"
      },
      "source": [
        "from sklearn.ensemble import RandomForestClassifier\n",
        "\n",
        "text_classifier = RandomForestClassifier(n_estimators=500, random_state=0)"
      ],
      "execution_count": null,
      "outputs": []
    },
    {
      "cell_type": "code",
      "metadata": {
        "id": "2gBymt_3_rgT"
      },
      "source": [
        "#X_train_matrix"
      ],
      "execution_count": null,
      "outputs": []
    },
    {
      "cell_type": "code",
      "metadata": {
        "id": "65Z5GVZnx2FC"
      },
      "source": [
        "\n",
        "#parameters = {\n",
        "#    \"n_estimators\":[10,50,100,200],\n",
        "#    \"max_depth\":[None]\n",
        "    \n",
        "#}"
      ],
      "execution_count": null,
      "outputs": []
    },
    {
      "cell_type": "code",
      "metadata": {
        "id": "QJ8mCp_Uw3v-"
      },
      "source": [
        "#from sklearn.model_selection import GridSearchCV\n",
        "#cv = GridSearchCV(text_classifier,parameters,cv=3)\n",
        "#cv.fit(X_train_matrix.todense(),y_train)"
      ],
      "execution_count": null,
      "outputs": []
    },
    {
      "cell_type": "code",
      "metadata": {
        "id": "IGJ0nmoox6Ia"
      },
      "source": [
        "#def display(results):\n",
        "#   print(f'Best parameters are: {results.best_params_}')\n",
        "#    print(\"\\n\")\n",
        "#    mean_score = results.cv_results_['mean_test_score']\n",
        "#    std_score = results.cv_results_['std_test_score']\n",
        "#    params = results.cv_results_['params']\n",
        "#    for mean,std,params in zip(mean_score,std_score,params):\n",
        "#        print(f'{round(mean,3)} + or -{round(std,3)} for the {params}')"
      ],
      "execution_count": null,
      "outputs": []
    },
    {
      "cell_type": "code",
      "metadata": {
        "id": "Z2qDj-Y_x9Zj"
      },
      "source": [
        "#display(cv)"
      ],
      "execution_count": null,
      "outputs": []
    },
    {
      "cell_type": "code",
      "metadata": {
        "id": "AVi-gRmIk8Ny"
      },
      "source": [
        "#import tensorflow as tf\n",
        "#tf.test.gpu_device_name()"
      ],
      "execution_count": null,
      "outputs": []
    },
    {
      "cell_type": "code",
      "metadata": {
        "id": "NdnJAukUmVZS"
      },
      "source": [
        "text_classifier.fit(X_train_matrix.todense(),y_train)"
      ],
      "execution_count": null,
      "outputs": []
    },
    {
      "cell_type": "code",
      "metadata": {
        "id": "RDho_P8VkmU1"
      },
      "source": [
        "from sklearn.metrics import classification_report, confusion_matrix, accuracy_score\n",
        "#X_test = X_test[:, None]\n",
        "predictions = text_classifier.predict(X_test_matrix)\n",
        "print(confusion_matrix(y_test,predictions))\n",
        "print(classification_report(y_test,predictions))\n",
        "print(accuracy_score(y_test, predictions))"
      ],
      "execution_count": null,
      "outputs": []
    },
    {
      "cell_type": "code",
      "metadata": {
        "id": "uSDQzYuGQKs3"
      },
      "source": [
        "print(accuracy_score(y_train,text_classifier.predict(X_train_matrix)))"
      ],
      "execution_count": null,
      "outputs": []
    },
    {
      "cell_type": "code",
      "metadata": {
        "id": "r83Ma31KjpCV"
      },
      "source": [
        "cols=['std_cnt_emoji','std_char_count','std_followers','std_following','male','female','no_gender','std_emoji_polarity']"
      ],
      "execution_count": null,
      "outputs": []
    },
    {
      "cell_type": "code",
      "metadata": {
        "id": "oGj_ltbOb57G"
      },
      "source": [
        "text_classifier.feature_importances_.shape"
      ],
      "execution_count": null,
      "outputs": []
    },
    {
      "cell_type": "code",
      "metadata": {
        "id": "QPmYcPJ9vc3L"
      },
      "source": [
        "a=text_classifier.feature_importances_[1000:1009]\n",
        "a"
      ],
      "execution_count": null,
      "outputs": []
    },
    {
      "cell_type": "code",
      "metadata": {
        "id": "5yGfTa7Jf_vt"
      },
      "source": [
        "import pandas as pd\n",
        "feature_importances = pd.DataFrame(a,index = cols,columns=['importance']).sort_values('importance',ascending=False)"
      ],
      "execution_count": null,
      "outputs": []
    },
    {
      "cell_type": "code",
      "metadata": {
        "id": "LszxjWu3ctKU"
      },
      "source": [
        "feature_importances"
      ],
      "execution_count": null,
      "outputs": []
    },
    {
      "cell_type": "markdown",
      "metadata": {
        "id": "bunugebdXOP6"
      },
      "source": [
        "### Other classifiers"
      ]
    },
    {
      "cell_type": "code",
      "metadata": {
        "id": "SRFixuSAXQsZ"
      },
      "source": [
        "#from xgboost import XGBClassifier\n",
        "#from sklearn.metrics import classification_report, confusion_matrix, accuracy_score\n",
        "\n",
        "#xgb_classifier = XGBClassifier()\n",
        "#xgb_classifier.fit(X_train_matrix.toarray(),y_train)\n",
        "\n",
        "#predictions = xgb_classifier.predict(X_test_matrix.toarray())\n",
        "#print(confusion_matrix(y_test,predictions))\n",
        "#print(accuracy_score(y_test, predictions))"
      ],
      "execution_count": null,
      "outputs": []
    },
    {
      "cell_type": "code",
      "metadata": {
        "id": "AaHLm73Jic7X"
      },
      "source": [
        "#from sklearn.neural_network import MLPClassifier\n",
        "#snn_classifier = MLPClassifier()\n",
        "#snn_classifier.fit(X_train_matrix.toarray(),y_train)\n",
        "#predictions = snn_classifier.predict(X_test_matrix.toarray())\n",
        "\n",
        "#print(confusion_matrix(y_test,predictions))\n",
        "#print(classification_report(y_test,predictions))\n",
        "#print(accuracy_score(y_test, predictions))"
      ],
      "execution_count": null,
      "outputs": []
    },
    {
      "cell_type": "code",
      "metadata": {
        "id": "sFh9Mnw2idsW"
      },
      "source": [
        "#dnn_classifier = MLPClassifier(hidden_layer_sizes = [100]*5)\n",
        "#dnn_classifier.fit(X_train_matrix.toarray(),y_train)\n",
        "#predictions = dnn_classifier.predict(X_test_matrix.toarray())\n",
        "\n",
        "#print(confusion_matrix(y_test,predictions))\n",
        "#print(classification_report(y_test,predictions))\n",
        "#print(accuracy_score(y_test, predictions))"
      ],
      "execution_count": null,
      "outputs": []
    },
    {
      "cell_type": "code",
      "metadata": {
        "id": "npifsAfOii9e"
      },
      "source": [
        "#from sklearn.naive_bayes import GaussianNB\n",
        "#from sklearn.metrics import classification_report, confusion_matrix, accuracy_score\n",
        "#gnb = GaussianNB()\n",
        "#predictions = gnb.fit(X_train_matrix.toarray(), y_train).predict(X_test_matrix.toarray())\n",
        "\n",
        "#print(confusion_matrix(y_test,predictions))\n",
        "#print(classification_report(y_test,predictions))\n",
        "#print(accuracy_score(y_test, predictions))"
      ],
      "execution_count": null,
      "outputs": []
    },
    {
      "cell_type": "code",
      "metadata": {
        "id": "Ny7Y3jhLiStt"
      },
      "source": [
        "#from sklearn.neighbors import KNeighborsClassifier\n",
        "#from sklearn.metrics import classification_report, confusion_matrix, accuracy_score\n",
        "\n",
        "#knn_classifier = KNeighborsClassifier()\n",
        "#knn_classifier.fit(X_train_matrix.toarray(),y_train)\n",
        "#predictions = knn_classifier.predict(X_test_matrix.toarray())\n",
        "\n",
        "#print(confusion_matrix(y_test,predictions))\n",
        "#print(classification_report(y_test,predictions))\n",
        "#print(accuracy_score(y_test, predictions))"
      ],
      "execution_count": null,
      "outputs": []
    },
    {
      "cell_type": "code",
      "metadata": {
        "id": "9HjOlbUl7e-L"
      },
      "source": [
        ""
      ],
      "execution_count": null,
      "outputs": []
    }
  ]
}